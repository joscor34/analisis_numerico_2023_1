{
 "cells": [
  {
   "cell_type": "markdown",
   "metadata": {},
   "source": [
    "# Ejercicio de errores"
   ]
  },
  {
   "cell_type": "markdown",
   "metadata": {},
   "source": [
    "Suponga que tiene que medir la longitud de un puente y la de un remache y se obtienen diferentes valores respectivamente. Si los valores verdaderos son 10000 cm y 10 cm. Calcule:\n",
    "\n",
    "- Error verdadero\n",
    "- Error relativo de cada caso\n",
    " "
   ]
  },
  {
   "cell_type": "markdown",
   "metadata": {},
   "source": [
    "### Importamos las librerias necesarias"
   ]
  },
  {
   "cell_type": "code",
   "execution_count": 18,
   "metadata": {},
   "outputs": [],
   "source": [
    "from IPython.display import display # Se importa la libreria display para aprovechar la notación matematica de Jupyter"
   ]
  },
  {
   "cell_type": "markdown",
   "metadata": {},
   "source": [
    "### Primero se le preguntan los valores al usuario"
   ]
  },
  {
   "cell_type": "code",
   "execution_count": 19,
   "metadata": {},
   "outputs": [
    {
     "name": "stdout",
     "output_type": "stream",
     "text": [
      "Porfavor indique el valor del puente: 9999\n",
      "Porfavor indique el valor del remache: 9\n"
     ]
    }
   ],
   "source": [
    "longitud_puente = float(input('Porfavor indique el valor del puente: '))\n",
    "longitud_remache = float(input('Porfavor indique el valor del remache: '))"
   ]
  },
  {
   "cell_type": "markdown",
   "metadata": {},
   "source": [
    "### Se definen los valores verdaderos"
   ]
  },
  {
   "cell_type": "code",
   "execution_count": 20,
   "metadata": {},
   "outputs": [],
   "source": [
    "longitud_verdadera_puente = 10000\n",
    "longitud_verdadera_remache = 10"
   ]
  },
  {
   "cell_type": "markdown",
   "metadata": {},
   "source": [
    "### a) Obtenemos el error verdadero"
   ]
  },
  {
   "cell_type": "code",
   "execution_count": 22,
   "metadata": {},
   "outputs": [
    {
     "data": {
      "text/plain": [
       "'Error verdadero del puente: 1.0cm'"
      ]
     },
     "metadata": {},
     "output_type": "display_data"
    },
    {
     "data": {
      "text/plain": [
       "'Error verdadero del remache: 1.0cm'"
      ]
     },
     "metadata": {},
     "output_type": "display_data"
    }
   ],
   "source": [
    "Ev_puente = longitud_verdadera_puente - longitud_puente\n",
    "Ev_remache = longitud_verdadera_remache - longitud_remache\n",
    "\n",
    "display('Error verdadero del puente: ' + str(Ev_puente) + 'cm')\n",
    "display('Error verdadero del remache: ' + str(Ev_remache) + 'cm')"
   ]
  },
  {
   "cell_type": "markdown",
   "metadata": {},
   "source": [
    "### b) Obtenemos el error relativo"
   ]
  },
  {
   "cell_type": "code",
   "execution_count": 23,
   "metadata": {},
   "outputs": [
    {
     "data": {
      "text/plain": [
       "'Error relativo del puente: 0.01%'"
      ]
     },
     "metadata": {},
     "output_type": "display_data"
    },
    {
     "data": {
      "text/plain": [
       "'Error relativo del remache: 10.0%'"
      ]
     },
     "metadata": {},
     "output_type": "display_data"
    }
   ],
   "source": [
    "Er_puente = (Ev_puente/longitud_verdadera_puente) * 100\n",
    "Er_remache = (Ev_remache/longitud_verdadera_remache) * 100\n",
    "\n",
    "display('Error relativo del puente: ' + str(Er_puente) + '%')\n",
    "display('Error relativo del remache: ' + str(Er_remache) + '%')"
   ]
  }
 ],
 "metadata": {
  "kernelspec": {
   "display_name": "Python 3",
   "language": "python",
   "name": "python3"
  },
  "language_info": {
   "codemirror_mode": {
    "name": "ipython",
    "version": 3
   },
   "file_extension": ".py",
   "mimetype": "text/x-python",
   "name": "python",
   "nbconvert_exporter": "python",
   "pygments_lexer": "ipython3",
   "version": "3.8.5"
  }
 },
 "nbformat": 4,
 "nbformat_minor": 4
}
