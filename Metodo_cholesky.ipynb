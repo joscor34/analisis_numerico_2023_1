{
 "cells": [
  {
   "cell_type": "markdown",
   "metadata": {},
   "source": [
    "# Método de Cholesky"
   ]
  },
  {
   "cell_type": "code",
   "execution_count": 1,
   "metadata": {},
   "outputs": [],
   "source": [
    "import math #Importamos la libreria para utilizarla"
   ]
  },
  {
   "cell_type": "code",
   "execution_count": 2,
   "metadata": {},
   "outputs": [],
   "source": [
    "# Definimos una función para aplicar el metodo Cholesky\n",
    "def Cholesky_Decomposition(matrix, n): \n",
    "  \n",
    "    lower = [[0 for x in range(n + 1)]  \n",
    "                for y in range(n + 1)]; \n",
    "  \n",
    "    # Decomposing a matrix \n",
    "    # into Lower Triangular \n",
    "    for i in range(n):  \n",
    "        for j in range(i + 1):  \n",
    "            sum1 = 0; \n",
    "  \n",
    "            # sum1mation for diagnols \n",
    "            if (j == i):  \n",
    "                for k in range(j): \n",
    "                    sum1 += pow(lower[j][k], 2); \n",
    "                lower[j][j] = int(math.sqrt(matrix[j][j] - sum1)); \n",
    "            else: \n",
    "                  \n",
    "                # Evaluating L(i, j) \n",
    "                # using L(j, j) \n",
    "                for k in range(j): \n",
    "                    sum1 += (lower[i][k] *lower[j][k]); \n",
    "                if(lower[j][j] > 0): \n",
    "                    lower[i][j] = int((matrix[i][j] - sum1) / \n",
    "                                               lower[j][j]); \n",
    "  \n",
    "    # Displaying Lower Triangular \n",
    "    # and its Transpose \n",
    "    print(\"Lower Triangular\\t\\tTranspose\"); \n",
    "    for i in range(n):  \n",
    "          \n",
    "        # Lower Triangular \n",
    "        for j in range(n): \n",
    "            print(lower[i][j], end = \"\\t\"); \n",
    "        print(\"\", end = \"\\t\"); \n",
    "          \n",
    "        # Transpose of \n",
    "        # Lower Triangular \n",
    "        for j in range(n): \n",
    "            print(lower[j][i], end = \"\\t\"); \n",
    "        print(\"\"); "
   ]
  },
  {
   "cell_type": "code",
   "execution_count": 11,
   "metadata": {},
   "outputs": [
    {
     "name": "stdout",
     "output_type": "stream",
     "text": [
      "Por favor ingrese el tamaño de la matriz NxN3\n",
      "Ingrese el valor_0_0: 4\n",
      "Ingrese el valor_0_1: 12\n",
      "Ingrese el valor_0_2: -16\n",
      "Ingrese el valor_1_0: 12\n",
      "Ingrese el valor_1_1: 37\n",
      "Ingrese el valor_1_2: -43\n",
      "Ingrese el valor_2_0: -16\n",
      "Ingrese el valor_2_1: -43\n",
      "Ingrese el valor_2_2: 98\n"
     ]
    },
    {
     "data": {
      "text/plain": [
       "[[4, 12, -16], [12, 37, -43], [-16, -43, 98]]"
      ]
     },
     "execution_count": 11,
     "metadata": {},
     "output_type": "execute_result"
    }
   ],
   "source": [
    "n = int(input('Por favor ingrese el tamaño de la matriz NxN: ')) \n",
    "matrix = []; \n",
    "for i in range (0,n):\n",
    "    a = []\n",
    "    for j in range (0,n):\n",
    "        a.append(int(input('Ingrese el valor_' + str(i) + '_' + str(j) + ': ')))\n",
    "    matrix.append(a)\n",
    "        \n",
    "matrix"
   ]
  },
  {
   "cell_type": "code",
   "execution_count": 12,
   "metadata": {},
   "outputs": [
    {
     "name": "stdout",
     "output_type": "stream",
     "text": [
      "Lower Triangular\t\tTranspose\n",
      "2\t0\t0\t\t2\t6\t-8\t\n",
      "6\t1\t0\t\t0\t1\t5\t\n",
      "-8\t5\t3\t\t0\t0\t3\t\n"
     ]
    }
   ],
   "source": [
    "Cholesky_Decomposition(matrix, n);"
   ]
  },
  {
   "cell_type": "code",
   "execution_count": null,
   "metadata": {},
   "outputs": [],
   "source": []
  }
 ],
 "metadata": {
  "kernelspec": {
   "display_name": "Python 3",
   "language": "python",
   "name": "python3"
  },
  "language_info": {
   "codemirror_mode": {
    "name": "ipython",
    "version": 3
   },
   "file_extension": ".py",
   "mimetype": "text/x-python",
   "name": "python",
   "nbconvert_exporter": "python",
   "pygments_lexer": "ipython3",
   "version": "3.8.5"
  }
 },
 "nbformat": 4,
 "nbformat_minor": 4
}
